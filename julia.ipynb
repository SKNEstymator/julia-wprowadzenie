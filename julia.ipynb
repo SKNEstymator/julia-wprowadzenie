{
  "nbformat": 4,
  "nbformat_minor": 0,
  "metadata": {
    "colab": {
      "name": "julia.ipynb",
      "provenance": [],
      "collapsed_sections": []
    },
    "kernelspec": {
      "name": "julia-1.5",
      "display_name": "Julia"
    }
  },
  "cells": [
    {
      "cell_type": "code",
      "metadata": {
        "id": "PzmKOAh2LZrF",
        "colab_type": "code",
        "colab": {}
      },
      "source": [
        "# installation cell\n",
        "url = 'https://julialang-s3.julialang.org/bin/linux/x64/1.5/julia-1.5.3-linux-x86_64.tar.gz'\n",
        "!wget -O- $url | tar xz -C /usr/local --strip-components 1\n",
        "!julia -e 'using Pkg; pkg\"add IJulia DataFrames StatsModels; precompile;\"'"
      ],
      "execution_count": 0,
      "outputs": []
    },
    {
      "cell_type": "code",
      "metadata": {
        "id": "erJ7bkEtLrCF",
        "colab_type": "code",
        "colab": {}
      },
      "source": [
        "# julia cells\n",
        "function square(x)\n",
        "  return x*x\n",
        "end\n",
        "\n",
        "square(5)"
      ],
      "execution_count": 0,
      "outputs": []
    }
  ]
}
